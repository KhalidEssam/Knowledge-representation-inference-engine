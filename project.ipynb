{
 "cells": [
  {
   "cell_type": "code",
   "execution_count": 1,
   "metadata": {},
   "outputs": [
    {
     "name": "stderr",
     "output_type": "stream",
     "text": [
      "writing [compiled_krb]/bc2_example_bc.py\n",
      "writing [compiled_krb]/Car.fbc\n",
      "writing [compiled_krb]/fc_example_fc.py\n",
      "e:\\Knowledge representation\\project\\pyke3-master\\pyke\\krb_compiler\\kqb_parser.py:35: FutureWarning: Possible nested set at position 122\n",
      "  tokenizer = re.compile(r''' [ \\t\\f\\r\\v]* (?: \\#.* )? (?:\n",
      "writing [compiled_krb]/questions.qbc\n",
      "writing [compiled_krb]/compiled_pyke_files.py\n"
     ]
    }
   ],
   "source": [
    "import sys\n",
    "# The following command points your notebook to the location of a folder outside your working directory that you want to import.\n",
    "sys.path.append('E:/Knowledge representation/project/pyke3-master/examples/Cars/')\n",
    "# sys.path.append('yourpath')\n",
    "import driver"
   ]
  },
  {
   "cell_type": "code",
   "execution_count": 2,
   "metadata": {},
   "outputs": [
    {
     "name": "stdout",
     "output_type": "stream",
     "text": [
      "Here are some options based on your selections\n",
      "______________________________________________________________________________\n",
      "______________________________________________________________________________\n",
      "______________________________________________________________________________\n",
      "x6 \n",
      "x5 \n",
      "x4 \n",
      "\n",
      "done\n",
      "bc time 3.74, 1 goals/sec\n"
     ]
    }
   ],
   "source": [
    "driver.general()"
   ]
  },
  {
   "cell_type": "code",
   "execution_count": 3,
   "metadata": {},
   "outputs": [
    {
     "name": "stdout",
     "output_type": "stream",
     "text": [
      "x4\n",
      "None\n",
      "x4, x6 are ('SUV', 'Same_Category')\n",
      "x4, x5 are ('SUV', 'Same_Category')\n",
      "x4, golf are ('SUV', 'Same_Category')\n",
      "x4, urus are ('SUV', 'Same_Category')\n",
      "x4, g_class are ('SUV', 'Same_Category')\n",
      "x4, x6 are ('BMW', 'Same_brand')\n",
      "x4, x5 are ('BMW', 'Same_brand')\n",
      "x4, e36 are ('BMW', 'Same_brand')\n",
      "x4, m5 are ('BMW', 'Same_brand')\n",
      "x4, 320 are ('BMW', 'Same_brand')\n",
      "x4, x6 are ('Germany', 'Same_Country')\n",
      "x4, x5 are ('Germany', 'Same_Country')\n",
      "x4, e36 are ('Germany', 'Same_Country')\n",
      "x4, m5 are ('Germany', 'Same_Country')\n",
      "x4, 320 are ('Germany', 'Same_Country')\n",
      "x4, golf are ('Germany', 'Same_Country')\n",
      "x4, c180 are ('Germany', 'Same_Country')\n",
      "x4, g_class are ('Germany', 'Same_Country')\n",
      "x4, Amg_gt are ('Germany', 'Same_Country')\n",
      "\n",
      "done\n",
      "fc time 0.05, 15707 asserts/sec\n"
     ]
    }
   ],
   "source": [
    "driver.fc_test(filter1='x4') "
   ]
  }
 ],
 "metadata": {
  "kernelspec": {
   "display_name": "Python 3",
   "language": "python",
   "name": "python3"
  },
  "language_info": {
   "codemirror_mode": {
    "name": "ipython",
    "version": 3
   },
   "file_extension": ".py",
   "mimetype": "text/x-python",
   "name": "python",
   "nbconvert_exporter": "python",
   "pygments_lexer": "ipython3",
   "version": "3.10.1"
  },
  "orig_nbformat": 4,
  "vscode": {
   "interpreter": {
    "hash": "34858fb4650e4f08c5273abdf3b94d08eabaf2da6ad278d4e34e857f9bde1bd0"
   }
  }
 },
 "nbformat": 4,
 "nbformat_minor": 2
}
